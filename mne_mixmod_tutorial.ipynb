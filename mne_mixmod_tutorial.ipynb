{
 "cells": [
  {
   "cell_type": "markdown",
   "metadata": {},
   "source": [
    "# Mixed effects modeling of alpha power from EEG data\n",
    "This tutorial shows how to use either `python` or `R` to run a mixed-effects regression model. We will simulate some rather simple data --- alpha power in each epoch --- with known properties, so we can assess how well the model recovers the structure of the data.  Note that we'll be trying to predict a **scalar** value for each epoch; things get more complicated if you want to use the epoch time series as the thing being predicted.\n",
    "\n",
    "## Setting up the workspace\n",
    "We begin by importing the various python packages we'll need, and setting a random seed so our simulated data is reproducible.  We'll also change the default figure size, just so it fills up the notebook width."
   ]
  },
  {
   "cell_type": "code",
   "execution_count": 1,
   "metadata": {
    "collapsed": false,
    "deletable": true,
    "editable": true
   },
   "outputs": [],
   "source": [
    "import numpy as np\n",
    "import statsmodels.api as sm\n",
    "import statsmodels.formula.api as formula\n",
    "import matplotlib.pyplot as plt\n",
    "from pandas import DataFrame\n",
    "import mne\n",
    "\n",
    "rng = np.random.RandomState(12345)\n",
    "plt.rc('figure', figsize=(16, 12))"
   ]
  },
  {
   "cell_type": "markdown",
   "metadata": {},
   "source": [
    "Next we import `rpy2` so we can run both `R` and `python` code in the same notebook. This also allows both `R` and `python` to access the same variables, which saves us from writing out data from `python` and reading it into `R`."
   ]
  },
  {
   "cell_type": "code",
   "execution_count": 2,
   "metadata": {
    "collapsed": true
   },
   "outputs": [],
   "source": [
    "import rpy2.robjects as robjects\n",
    "from rpy2.robjects.packages import importr  # lets us load R packages"
   ]
  },
  {
   "cell_type": "markdown",
   "metadata": {},
   "source": [
    "If you are running this in a Jupyter Notebook, there is a \"magic\" command `%load_ext rpy2.ipython` that does all that automatically, but sadly the `mne` documentation is auto-built and doesn't support magic commands.\n",
    "\n",
    "## Simulating the data\n",
    "Next we'll simulate alpha power measurements for 12 subjects and 2 conditions (\"noun\" and \"verb\"). Each condition will consist of 20 items, with 10 repetitions per item."
   ]
  },
  {
   "cell_type": "code",
   "execution_count": 3,
   "metadata": {
    "collapsed": false,
    "deletable": true,
    "editable": true
   },
   "outputs": [],
   "source": [
    "subjs = range(12)\n",
    "conds = ['noun', 'verb']\n",
    "nouns = ['time', 'year', 'people', 'way', 'day', 'man', 'thing', 'woman',\n",
    "         'life', 'child', 'world', 'school', 'state', 'family', 'student',\n",
    "         'group', 'country', 'problem', 'hand', 'part']\n",
    "verbs = ['be', 'have', 'do', 'say', 'go', 'get', 'make', 'know', 'see', 'say',\n",
    "         'think', 'come', 'want', 'use', 'find', 'give', 'tell', 'work',\n",
    "         'call', 'try']\n",
    "words = nouns + verbs\n",
    "trials_per_word = 10\n",
    "trials = range(len(words) * trials_per_word)"
   ]
  },
  {
   "cell_type": "markdown",
   "metadata": {
    "deletable": true,
    "editable": true
   },
   "source": [
    "Next we'll specify the parameters of the model that we'll be trying to recover later. Since we're modeling \"alpha power\", these variables determine what the alpha power will be for a given subject/trial combination.  For example, in `cond_intercepts` we're specifying that nouns, on average, will have alpha power that is 7 units greater than verbs, and additionally (in `word_intercepts`) specifying some per-word random deviations from those condition averages."
   ]
  },
  {
   "cell_type": "code",
   "execution_count": 4,
   "metadata": {
    "collapsed": false,
    "deletable": true,
    "editable": true
   },
   "outputs": [],
   "source": [
    "global_intercept = 100\n",
    "cond_intercepts = np.repeat([7, 0], [len(nouns), len(verbs)])\n",
    "word_intercepts = rng.randn(len(words)) * 1.5\n",
    "# pre-combine condition and word effects into a single offset, \n",
    "# and tile it to get the total number of trials\n",
    "trial_intercepts = np.tile(cond_intercepts + word_intercepts, trials_per_word)\n",
    "\n",
    "subj_intercepts = rng.randn(len(subjs)) * 4\n",
    "subj_noise = np.exp(1 + rng.randn(len(subjs)))  # TODO: this is being added as an intercept,\n",
    "                                                # but should really be a subject-level variance?\n",
    "eps = rng.randn(len(subjs), len(trials))"
   ]
  },
  {
   "cell_type": "markdown",
   "metadata": {
    "deletable": true,
    "editable": true
   },
   "source": [
    "We also specified in `subj_intercepts` that each subject will vary in her overall alpha power (e.g., because of differences in alertness, skull thickness, EEG sensor position, etc), and add in some noise. Now we're ready to compute the alpha power values for each epoch:"
   ]
  },
  {
   "cell_type": "code",
   "execution_count": 5,
   "metadata": {
    "collapsed": true,
    "deletable": true,
    "editable": true
   },
   "outputs": [],
   "source": [
    "alpha_powers = (global_intercept + \n",
    "                subj_intercepts[:, np.newaxis] + \n",
    "                trial_intercepts[np.newaxis, :] +\n",
    "                subj_noise[:, np.newaxis] * eps)"
   ]
  },
  {
   "cell_type": "markdown",
   "metadata": {
    "deletable": true,
    "editable": true
   },
   "source": [
    "## Generate signals\n",
    "Next we generate the actual signals.  For simplicity we're just doing a single channel, since we're going to reduce it back down to scalar alpha-band power anyway."
   ]
  },
  {
   "cell_type": "code",
   "execution_count": 6,
   "metadata": {
    "collapsed": false,
    "deletable": true,
    "editable": true
   },
   "outputs": [],
   "source": [
    "fs = 1000\n",
    "epoch_dur = 2.\n",
    "times = np.linspace(0, epoch_dur, int(epoch_dur * fs))\n",
    "\n",
    "fourier_freqs = np.fft.rfftfreq(len(times), d=1/fs)\n",
    "alpha_band_freqs = np.where(np.logical_and(fourier_freqs > 8, \n",
    "                                           fourier_freqs < 12))[0]\n",
    "other_band_freqs = np.where(np.logical_or(fourier_freqs < 7, \n",
    "                                          fourier_freqs > 13))[0]\n",
    "fourier_coefs = np.zeros((len(subjs), len(trials), len(fourier_freqs)))\n",
    "# for simplicity, we'll just put all the power in a single frequency bin\n",
    "# near the middle of the alpha band\n",
    "freq_bin = len(alpha_band_freqs) // 2\n",
    "fourier_coefs[:, :, alpha_band_freqs[freq_bin]] = np.sqrt(alpha_powers)\n",
    "\n",
    "# generate the signals\n",
    "signal = np.fft.irfft(fourier_coefs, axis=-1)\n",
    "\n",
    "# make sure we didn't screw up:\n",
    "powr = np.fft.rfft(signal, axis=-1)\n",
    "powr = (powr * powr).sum(axis=-1)\n",
    "assert np.allclose(alpha_powers, powr)\n",
    "\n",
    "# add some energy outside alpha band\n",
    "coefs = rng.rand(len(subjs) * len(trials) * len(other_band_freqs)).reshape(len(subjs), len(trials), -1)\n",
    "fourier_coefs[:, :, other_band_freqs] = coefs\n",
    "signal_plus_noise = np.fft.irfft(fourier_coefs, axis=-1)\n",
    "signal_plus_noise[:, :, 0] = 0.  # hack to avoid cosine phase issue\n",
    "\n",
    "# TODO: signal appears the same in all trials below\n",
    "# plot a few trials, just to see\n",
    "fig, axs = plt.subplots(2, 2)\n",
    "for trial, ax in zip([0, 20, 50, 90], axs.ravel()):\n",
    "    ax.plot(signal_plus_noise[0, trial, :])\n",
    "    ax.plot(signal[0, trial, :])"
   ]
  },
  {
   "cell_type": "markdown",
   "metadata": {
    "deletable": true,
    "editable": true
   },
   "source": [
    "## Generate `Epochs` objects\n",
    "Now that we have some (fake) data, let's get it into `mne-python` format.  If you're working with real data, you would skip all the synthesis above and start here."
   ]
  },
  {
   "cell_type": "code",
   "execution_count": 7,
   "metadata": {
    "collapsed": true,
    "deletable": true,
    "editable": true
   },
   "outputs": [],
   "source": [
    "# TODO: create event dict, etc\n",
    "# info = XXX\n",
    "# events = np.zeros((len(trials), 3))\n",
    "# event_id = dict()\n",
    "# epochs = mne.epochs.EpochsArray(signal_plus_noise, info, events, proj=False)\n",
    "# TODO: Recover alpha power from noisy signals"
   ]
  },
  {
   "cell_type": "markdown",
   "metadata": {
    "deletable": true,
    "editable": true
   },
   "source": [
    "## Convert data to long form for modeling\n",
    "For now, we'll skip all the signal / epoch generation above, and just work with the generated alpha powers (on the assumption that they would have been recovered more or less as-is from the noisy signals).  When the signal/epoch generation code above is completed, we'll swap in `recovered_alpha_powers` for `alpha_powers` in what follows."
   ]
  },
  {
   "cell_type": "code",
   "execution_count": 8,
   "metadata": {
    "collapsed": false,
    "deletable": true,
    "editable": true
   },
   "outputs": [],
   "source": [
    "variables = dict(alpha_power=alpha_powers.ravel(),\n",
    "                 subj=np.repeat(subjs, len(trials)),\n",
    "                 word=np.tile(words, len(subjs) * trials_per_word),\n",
    "                 cond=np.tile(np.repeat(conds, [len(nouns), len(verbs)]), \n",
    "                              len(subjs) * trials_per_word))\n",
    "\n",
    "dfrm = DataFrame(variables)"
   ]
  },
  {
   "cell_type": "markdown",
   "metadata": {
    "deletable": true,
    "editable": true
   },
   "source": [
    "## Do the stats\n",
    "\n",
    "First, we will consider the following **mixed-effects model**:\n",
    "\n",
    "\\begin{equation}\n",
    "  \\log y_{c,j,i} = \\beta_0 + \\beta_c + \\beta_j + \\epsilon_{c,j,i}\n",
    "\\end{equation}\n",
    "\n",
    "Where $\\epsilon_{c,j,i} \\sim \\mathcal{N}(0, \\sigma_j)$.\n",
    "\n",
    "**TODO** add more explanation"
   ]
  },
  {
   "cell_type": "code",
   "execution_count": 9,
   "metadata": {
    "collapsed": false,
    "deletable": true,
    "editable": true
   },
   "outputs": [
    {
     "name": "stdout",
     "output_type": "stream",
     "text": [
      "           Mixed Linear Model Regression Results\n",
      "===========================================================\n",
      "Model:              MixedLM Dependent Variable: alpha_power\n",
      "No. Observations:   4800    Method:             REML       \n",
      "No. Groups:         12      Scale:              26.1812    \n",
      "Min. group size:    400     Likelihood:         -14679.4752\n",
      "Max. group size:    400     Converged:          Yes        \n",
      "Mean group size:    400.0                                  \n",
      "-----------------------------------------------------------\n",
      "              Coef.  Std.Err.    z    P>|z|  [0.025  0.975]\n",
      "-----------------------------------------------------------\n",
      "Intercept    105.880    1.216  87.077 0.000 103.497 108.263\n",
      "cond[T.verb]  -7.709    0.148 -52.193 0.000  -7.999  -7.420\n",
      "groups RE     17.611    1.479                              \n",
      "===========================================================\n",
      "\n"
     ]
    }
   ],
   "source": [
    "md = formula.mixedlm(\"alpha_power ~ cond\", dfrm, groups=dfrm['subj'])\n",
    "fitmod_py = md.fit() \n",
    "print(fitmod_py.summary())"
   ]
  },
  {
   "cell_type": "markdown",
   "metadata": {
    "deletable": true,
    "editable": true
   },
   "source": [
    "## Run the same model in R\n",
    "Now we'll use `rpy2` to run the same model using the `lme4` package in `R`. Again, there is a \"magic\" command that makes this easier in Jupyter notebooks; just put `%%R` as the first line of a cell, and the rest of the cell will be interpreted as `R` code and sent to `R` through the `rpy2` interface.  To access `python` variables in the notebook environment, import them on the first line like this: `%%R -i name_of_python_variable`; to send variables created or modified in the `R` cell back to `python`, use the `-o` flag in the same way (e.g., `%%R -o name_of_r_variable`).  You can also combine the `-i` and `-o` flags in one cell."
   ]
  },
  {
   "cell_type": "code",
   "execution_count": 10,
   "metadata": {
    "collapsed": false,
    "deletable": true,
    "editable": true
   },
   "outputs": [],
   "source": [
    "#%%R -i dfrm\n",
    "#suppressWarnings(library(lme4))\n",
    "#fitmod_r <- lmer(alpha_power ~ cond + (1|subj), data=dfrm)\n",
    "#summary(fitmod_r)"
   ]
  },
  {
   "cell_type": "code",
   "execution_count": 17,
   "metadata": {
    "collapsed": false,
    "deletable": true,
    "editable": true
   },
   "outputs": [
    {
     "data": {
      "text/plain": [
       "R object with classes: ('summary.merMod',) mapped to:\n",
       "<ListVector - Python:0x7fe93ed64cc8 / R:0x5681970>\n",
       "[StrVe..., StrVe..., ListV..., ..., Float..., StrVe..., ListV...]\n",
       "  methTitle: <class 'rpy2.robjects.vectors.StrVector'>\n",
       "  R object with classes: ('character',) mapped to:\n",
       "<StrVector - Python:0x7fe93d840e48 / R:0x925ba68>\n",
       "['Linear mixed model fit by REML']\n",
       "  objClass: <class 'rpy2.robjects.vectors.StrVector'>\n",
       "  R object with classes: ('character',) mapped to:\n",
       "<StrVector - Python:0x7fe93ed648c8 / R:0x8d82cf8>\n",
       "['lmerMod']\n",
       "R object with classes: ('summary.merMod',) mapped to:\n",
       "<ListVector - Python:0x7fe93ed64cc8 / R:0x5681970>\n",
       "[StrVe..., StrVe..., ListV..., ..., Float..., StrVe..., ListV...]\n",
       "  ...\n",
       "  methTitle: <class 'rpy2.robjects.vectors.FloatVector'>\n",
       "  R object with classes: ('numeric',) mapped to:\n",
       "<FloatVector - Python:0x7fe93ed73248 / R:0x9f84ed0>\n",
       "[0.307799, -0.441397, -0.244593, ..., -0.066270, 0.981291, 1.756688]\n",
       "  objClass: <class 'rpy2.robjects.vectors.StrVector'>\n",
       "  R object with classes: ('character',) mapped to:\n",
       "<StrVector - Python:0x7fe93ed73988 / R:0x8dbb658>\n",
       "[]\n",
       "R object with classes: ('summary.merMod',) mapped to:\n",
       "<ListVector - Python:0x7fe93ed64cc8 / R:0x5681970>\n",
       "[StrVe..., StrVe..., ListV..., ..., Float..., StrVe..., ListV...]"
      ]
     },
     "execution_count": 17,
     "metadata": {},
     "output_type": "execute_result"
    }
   ],
   "source": [
    "from rpy2.robjects import pandas2ri\n",
    "from rpy2.robjects import DataFrame as rDF\n",
    "from rpy2.robjects import default_converter\n",
    "from rpy2.robjects.conversion import localconverter\n",
    "with localconverter(default_converter + pandas2ri.converter) as cv:\n",
    "    dfrm_r = rDF(dfrm)\n",
    "\n",
    "lme4 = importr('lme4')\n",
    "fitmod_r = lme4.lmer('alpha_power ~ cond + (1|subj)', data=dfrm_r)\n",
    "robjects.r['summary'](fitmod_r)\n",
    "\n",
    "#robjects.r('''\n",
    "#suppressWarnings(library(lme4))\n",
    "#fitmod_r <- lmer(alpha_power ~ cond + (1|subj), data=dfrm)\n",
    "#summary(fitmod_r)\n",
    "#''')\n"
   ]
  },
  {
   "cell_type": "code",
   "execution_count": null,
   "metadata": {
    "collapsed": true
   },
   "outputs": [],
   "source": []
  }
 ],
 "metadata": {
  "kernelspec": {
   "display_name": "Python 3",
   "language": "python",
   "name": "python3"
  },
  "language_info": {
   "codemirror_mode": {
    "name": "ipython",
    "version": 3
   },
   "file_extension": ".py",
   "mimetype": "text/x-python",
   "name": "python",
   "nbconvert_exporter": "python",
   "pygments_lexer": "ipython3",
   "version": "3.6.0"
  }
 },
 "nbformat": 4,
 "nbformat_minor": 2
}
