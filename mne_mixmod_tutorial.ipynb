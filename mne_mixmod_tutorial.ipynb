{
 "cells": [
  {
   "cell_type": "code",
   "execution_count": 1,
   "metadata": {
    "collapsed": false
   },
   "outputs": [],
   "source": [
    "import numpy as np\n",
    "import mne\n",
    "\n",
    "rng = np.random.RandomState(12345)\n",
    "\n",
    "%load_ext rpy2.ipython"
   ]
  },
  {
   "cell_type": "markdown",
   "metadata": {},
   "source": [
    "# Simulate sensor data\n",
    "For this example, we'll simulate some EEG data for 10 subjects and 2 conditions. Each condition will consist of 100 trials. We will think of each trial as presenting the subject with a word (a **noun** in trial 1, and a **verb**\n",
    "in trial 2)."
   ]
  },
  {
   "cell_type": "code",
   "execution_count": 3,
   "metadata": {
    "collapsed": false
   },
   "outputs": [],
   "source": [
    "fs = 1000\n",
    "channels = range(32)\n",
    "subjs = range(12)\n",
    "conds = ['noun', 'verb']\n",
    "nouns = ['time', 'year', 'people', 'way', 'day', 'man', 'thing', 'woman',\n",
    "         'life', 'child', 'world', 'school', 'state', 'family', 'student',\n",
    "         'group', 'country', 'problem', 'hand', 'part']\n",
    "verbs = ['be', 'have', 'do', 'say', 'go', 'get', 'make', 'know', 'see', \n",
    "         'say', 'think', 'come', 'want', 'use', 'find', 'give', 'tell', \n",
    "         'work', 'call', 'try']\n",
    "words = nouns + verbs\n",
    "trials_per_word = 10\n",
    "epoch_dur = 2.\n",
    "\n",
    "#t = np.linspace(0, epoch_dur, int(epoch_dur * fs))\n",
    "#data = np.empty((len(subjs), len(words) * trials_per_word, len(channels), len(t)))\n",
    "\n",
    "global_intercept = 3\n",
    "subj_intercepts = rng.randn(len(subjs)) * 5\n",
    "cond_intercepts = np.repeat([13, 5], [len(nouns), len(verbs)])\n",
    "                            \n",
    "word_intercepts = rng.randn(len(words)) * 1.5\n",
    "subj_noise = np.exp(1 + rng.randn(len(subjs)))\n",
    "\n",
    "eps = rng.randn(len(subjs), len(words), trials_per_word)\n",
    "\n",
    "\n",
    "alpha_powers = (global_intercept + \n",
    "                subj_intercepts[:, np.newaxis, np.newaxis] + \n",
    "                cond_intercepts[np.newaxis, :, np.newaxis] +\n",
    "                word_intercepts[np.newaxis, :, np.newaxis] + \n",
    "                subj_noise[:, np.newaxis, np.newaxis] * eps)\n",
    "\n",
    "\n"
   ]
  },
  {
   "cell_type": "code",
   "execution_count": 4,
   "metadata": {
    "collapsed": false
   },
   "outputs": [
    {
     "data": {
      "text/plain": [
       "(12, 40, 10)"
      ]
     },
     "execution_count": 4,
     "metadata": {},
     "output_type": "execute_result"
    }
   ],
   "source": [
    "alpha_powers.shape\n"
   ]
  },
  {
   "cell_type": "markdown",
   "metadata": {},
   "source": [
    "First, we will consider the following **mixed-effects model**:\n",
    "\n",
    "\\begin{equation}\n",
    "  \\log y_{c,j,i} = \\beta_0 + \\beta_c + \\beta_j + \\epsilon_{c,j,i}\n",
    "\\end{equation}\n",
    "\n",
    "$\\epsilon_{c,j,i} \\sim \\mathcal{N}(0, \\sigma_j)$"
   ]
  },
  {
   "cell_type": "code",
   "execution_count": null,
   "metadata": {
    "collapsed": false
   },
   "outputs": [],
   "source": [
    "%%R -o foo -i bar\n",
    "foo <- data.frame(A=rnorm(4), B=rpois(4, 0.5))\n",
    "print(bar)"
   ]
  },
  {
   "cell_type": "code",
   "execution_count": null,
   "metadata": {
    "collapsed": true
   },
   "outputs": [],
   "source": []
  }
 ],
 "metadata": {
  "kernelspec": {
   "display_name": "p3mne",
   "language": "python",
   "name": "p3mne"
  },
  "language_info": {
   "codemirror_mode": {
    "name": "ipython",
    "version": 3
   },
   "file_extension": ".py",
   "mimetype": "text/x-python",
   "name": "python",
   "nbconvert_exporter": "python",
   "pygments_lexer": "ipython3",
   "version": "3.6.0"
  }
 },
 "nbformat": 4,
 "nbformat_minor": 2
}
